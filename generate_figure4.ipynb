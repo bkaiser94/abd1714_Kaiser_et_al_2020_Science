{
 "cells": [
  {
   "cell_type": "markdown",
   "metadata": {},
   "source": [
    "# Generate Figure 4 for Kaiser et al. 2020 (The Spite Plot)"
   ]
  },
  {
   "cell_type": "markdown",
   "metadata": {},
   "source": [
    "This is the same message at the beginning of all jupyter notebooks in this directory. \n",
    "\n",
    "If you don't have the below packages, you obviously need to install them for this to work. If it doesn't work still it's extremely likely you have an outdated version of one of the packages. Alternatively, some of the histogram functions actually rely on not being the most recent version because they changed from \"normed\" to something else from my recollection. Or perhaps it was the other way. I am aware this was poor decision-making, but it works (if you use the right version). ¯\\\\_(ツ)_/¯\n",
    "\n",
    "Also pretty much all of these commands are copied and pasted from another Jupyter notebook I made but contained tons of tries at doing this stuff (and unrelated efforts) so that's why a lot of the variables seem unnecessary to use."
   ]
  },
  {
   "cell_type": "code",
   "execution_count": 1,
   "metadata": {},
   "outputs": [
    {
     "name": "stdout",
     "output_type": "stream",
     "text": [
      "1598631546.7147148\n",
      "\n",
      "\n",
      "no file_setting specificied\n",
      "\n",
      "\n",
      "/Users/BenKaiser/Desktop/abd1714_Kaiser_et_al_2020_Science\n",
      "pdf\n"
     ]
    }
   ],
   "source": [
    "from __future__ import print_function\n",
    "\n",
    "import matplotlib\n",
    "matplotlib.use('pdf')\n",
    "\n",
    "\n",
    "import numpy as np\n",
    "import matplotlib.pyplot as plt\n",
    "import sys\n",
    "import os\n",
    "from astropy.io import fits\n",
    "from glob import glob\n",
    "from astropy.time import Time\n",
    "from astropy import coordinates as coords\n",
    "from astropy import units as u\n",
    "from astropy import constants as const\n",
    "from astropy import convolution as conv\n",
    "from astropy.table import Table, Column\n",
    "import scipy.interpolate as scinterp\n",
    "import time\n",
    "start = time.time()\n",
    "print(start)\n",
    "time_string=str(start).split('.')[0]\n",
    "\n",
    "import spec_plot_tools as spt\n",
    "import cal_params as cp\n",
    "import plot_spec as ps\n",
    "import bensby_plotting as bp\n",
    "\n",
    "print(os.getcwd())\n",
    "print(matplotlib.get_backend())"
   ]
  },
  {
   "cell_type": "code",
   "execution_count": 2,
   "metadata": {},
   "outputs": [],
   "source": [
    "figure_output_dir='/Users/BenKaiser/Desktop/GaiaJ1644m0449_paper/First_Revision'"
   ]
  },
  {
   "cell_type": "code",
   "execution_count": 3,
   "metadata": {},
   "outputs": [],
   "source": [
    "target_dir= '/Users/BenKaiser/Desktop/GaiaJ1644m0449_paper/'\n",
    "os.chdir(target_dir)"
   ]
  },
  {
   "cell_type": "code",
   "execution_count": 4,
   "metadata": {},
   "outputs": [],
   "source": [
    "wd_abund_file='temp_wd_abundances.csv'\n",
    "lodders_abund_file='Lodders2009_solarsystem_abundances.csv'"
   ]
  },
  {
   "cell_type": "code",
   "execution_count": 5,
   "metadata": {},
   "outputs": [],
   "source": [
    "wd_abund_table=Table.read(wd_abund_file)\n",
    "wd_abund_table.add_index('name')"
   ]
  },
  {
   "cell_type": "code",
   "execution_count": 6,
   "metadata": {},
   "outputs": [],
   "source": [
    "lodders_table=Table.read(lodders_abund_file)\n",
    "lodders_table.add_index('element')"
   ]
  },
  {
   "cell_type": "code",
   "execution_count": 7,
   "metadata": {},
   "outputs": [],
   "source": [
    "color_dict={\n",
    "    'GaiaJ1644-0449':'#ff0000',\n",
    "    'SDSSJ1330+6435':'#8900ff',\n",
    "    'WDJ2356-209':'#00ffc5'#'#b0ff00'\n",
    "}\n",
    "\n",
    "fill_dict={\n",
    "    'GaiaJ1644-0449':'#ffc3c3',#'#ff8282',\n",
    "    'SDSSJ1330+6435':'#d0a3ff',#'#c689fb',\n",
    "    'WDJ2356-209':'#ebfffb'#'#d4fb7e'\n",
    "}\n",
    "\n",
    "pattern_dict={\n",
    "    'GaiaJ1644-0449':'#ffc3c3',\n",
    "    'SDSSJ1330+6435':'#d0a3ff',\n",
    "    'WDJ2356-209':'#ebfffb'\n",
    "}\n",
    "step_dict={\n",
    "    'GaiaJ1644-0449':10,\n",
    "    'SDSSJ1330+6435':0.1,\n",
    "    'WDJ2356-209':10\n",
    "}\n",
    "\n",
    "\n",
    "line_dict={\n",
    "    'thin': ':',\n",
    "    'thick':'-',\n",
    "    'halo':'-.'\n",
    "}\n",
    "\n",
    "wd_marker='*'\n",
    "met_marker='D'\n",
    "met_color='#1ca1f2'\n",
    "ci_size=14\n",
    "wd_size=14\n",
    "dp_alpha=1\n",
    "arr_naca=[-0.4,-0.1]\n",
    "\n",
    "\n",
    "star_marker='o'\n",
    "pop_colors=['darkorange','brown','navy','grey'] #thin disk, thick disk, halo, in-between for Bensby plots\n",
    "\n",
    "spite_alpha=1\n",
    "\n"
   ]
  },
  {
   "cell_type": "code",
   "execution_count": 8,
   "metadata": {},
   "outputs": [],
   "source": [
    "def LiHe_to_ALi(row,CaFe, FeH, phase='EP'):\n",
    "    LiCa= row['li/he']-row['ca/he'] #general number, not relative to solar\n",
    "    if phase=='EP':\n",
    "        pass\n",
    "    elif phase=='SSP':\n",
    "        LiCa=LiCa+row['tau_ca/tau_li']\n",
    "    #print('Li/Ca', LiCa)\n",
    "    CaH=CaFe+FeH #relative to solar\n",
    "    #print('[Ca/H]', CaH)\n",
    "    #print('lodders A(Ca)',lodders_table['A_el'][np.where(lodders_table['element']=='Ca')])\n",
    "    CaH=CaH+lodders_table['A_el'][np.where(lodders_table['element']=='Ca')] #CaH now in A(Ca)\n",
    "    #print('A(Ca)', CaH)\n",
    "    LiH=LiCa+CaH #puts LiH immediately on the A(Li) scale\n",
    "    ALi= LiH\n",
    "    return ALi"
   ]
  },
  {
   "cell_type": "code",
   "execution_count": 9,
   "metadata": {},
   "outputs": [],
   "source": [
    "def make_dist(value,sigma, npoints):\n",
    "    return np.random.normal(loc=value, scale=sigma, size=npoints )\n",
    "\n",
    "\n"
   ]
  },
  {
   "cell_type": "code",
   "execution_count": 10,
   "metadata": {},
   "outputs": [
    {
     "name": "stdout",
     "output_type": "stream",
     "text": [
      "-0.34285714285714286\n"
     ]
    }
   ],
   "source": [
    "#from Mashonkina et al. 2019 and the other Mashonkina et al. 2019/2020 paper that included thin disk stars as well.\n",
    "npoints=100\n",
    "FeH_thick= np.linspace(-1.5,-0.4,npoints)\n",
    "FeH_halo=np.linspace(-2.6,-1.2,npoints)\n",
    "FeH_thin= np.linspace(-0.73, 0.24, npoints)\n",
    "#from Mashonkina et al. 2019\n",
    "CaFe_thick=0.24\n",
    "CaFe_thick_err=0.07\n",
    "CaFe_halo=0.35\n",
    "CaFe_halo_err=0.08\n",
    "\n",
    "#from later Mashonkina et al. 2019/2020 and our by-eye approximation of the trend\n",
    "def get_CaFe_thin(FeH):\n",
    "    slope=(0-0.24)/(0+0.7)\n",
    "    print(slope)\n",
    "    return slope*FeH\n",
    "\n",
    "CaFe_thin=get_CaFe_thin(FeH_thin)"
   ]
  },
  {
   "cell_type": "code",
   "execution_count": 11,
   "metadata": {},
   "outputs": [],
   "source": [
    "#grisoni_primordial=2.6\n",
    "grisoni_ALi=2.6\n",
    "coc_ALi=2.7\n",
    "primordial_ALi=coc_ALi\n",
    "def grisoni_crude(FeH):\n",
    "    \"\"\"\n",
    "    return the A(Li) value for the [Fe/H] value using Grisoni et al. 2019 approximated model\n",
    "    \"\"\"\n",
    "    flat_inds= np.where(FeH< -0.71)\n",
    "    func_inds= np.where(FeH>= -0.71)\n",
    "    output_array=np.ones(FeH.shape)\n",
    "    output_array[flat_inds]= primordial_ALi\n",
    "    output_array[func_inds]= 1.111*(FeH[func_inds]+0.71)+primordial_ALi\n",
    "    return output_array"
   ]
  },
  {
   "cell_type": "code",
   "execution_count": 12,
   "metadata": {},
   "outputs": [],
   "source": [
    "ymin=0\n",
    "ymax=5\n",
    "def make_plot(save_fig=False):\n",
    "    plt.errorbar(0, lodders_table.loc['Li']['A_el'], yerr=lodders_table.loc['Li']['A_el_err'], label='CI Chond.', marker=met_marker,color=met_color, markersize=ci_size)\n",
    "    model_FeH= np.linspace(-3, 0.6, 100)\n",
    "    model_ALi= grisoni_crude(model_FeH)\n",
    "    plt.plot(model_FeH, model_ALi, label='Crude Grisoni et al. 2019', linestyle='--', color='k')\n",
    "    plt.xlabel('[Fe/H]')\n",
    "    plt.ylabel('A(Li)')\n",
    "    #plt.legend(loc='best')\n",
    "    plt.xlim(-3, 0.6)\n",
    "    plt.ylim(ymin,ymax)\n",
    "    if save_fig:\n",
    "        print(os.getcwd())\n",
    "        os.chdir(image_output_dir)\n",
    "        print(os.getcwd())\n",
    "        plt.savefig('figure4_'+time_string+'.pdf')\n",
    "    plt.show()\n",
    "    return"
   ]
  },
  {
   "cell_type": "code",
   "execution_count": 13,
   "metadata": {},
   "outputs": [],
   "source": [
    "def fill_under(FeH, ALi_hi,wd_name,ALi_lo=ymin):\n",
    "    #plt.fill_between(FeH, ALi_hi, ALi_lo, color=color_dict[wd_name], alpha=spite_alpha)\n",
    "    plt.fill_between(FeH, ALi_hi, ALi_lo, color=fill_dict[wd_name], hatch='x')\n",
    "    return"
   ]
  },
  {
   "cell_type": "markdown",
   "metadata": {},
   "source": [
    "There's no [Fe/H] error for the meteor because it is defined to be 0 as the solar value, so it can't have an uncertainty really..."
   ]
  },
  {
   "cell_type": "code",
   "execution_count": 14,
   "metadata": {
    "scrolled": false
   },
   "outputs": [
    {
     "name": "stdout",
     "output_type": "stream",
     "text": [
      "-0.34285714285714286\n",
      "0.20361956765509734 0.3569678583131237\n",
      "       B_ALi        \n",
      "--------------------\n",
      "0.030000000000000027\n",
      " 0.10000000000000009\n",
      " 0.06000000000000005\n",
      " 0.06000000000000005\n",
      " 0.04999999999999982\n",
      " 0.06000000000000005\n",
      " 0.04999999999999982\n",
      "                  --\n",
      "0.039999999999999813\n",
      "0.050000000000000266\n",
      "                 ...\n",
      " 0.06000000000000005\n",
      "0.040000000000000036\n",
      "                  --\n",
      "0.040000000000000036\n",
      " 0.06000000000000005\n",
      "                  --\n",
      "0.040000000000000036\n",
      " 0.08999999999999986\n",
      "                  --\n",
      "                  --\n",
      "                0.06\n",
      "Length = 714 rows\n",
      "<class 'astropy.table.column.MaskedColumn'>\n",
      "<class 'astropy.table.column.MaskedColumn'>\n",
      "ALi.shape (714,)\n"
     ]
    },
    {
     "name": "stderr",
     "output_type": "stream",
     "text": [
      "/Library/Frameworks/Python.framework/Versions/3.6/lib/python3.6/site-packages/numpy/core/numeric.py:492: UserWarning: Warning: converting a masked element to nan.\n",
      "  return array(a, dtype, copy=False, order=order)\n"
     ]
    },
    {
     "name": "stdout",
     "output_type": "stream",
     "text": [
      "0.19172266891228953 0.35520232019332854\n"
     ]
    }
   ],
   "source": [
    "n_random=1000\n",
    "#j1644_LiCa_dist=make_dist(wd_abund_table.loc['GaiaJ1644-0449']['li/ca'],wd_abund_table.loc['GaiaJ1644-0449']['li/ca_err'], n_random)\n",
    "#j1330_LiCa_dist=make_dist(wd_abund_table.loc['SDSSJ1330+6435']['li/ca'],wd_abund_table.loc['SDSSJ1330+6435']['li/ca_err'], n_random)\n",
    "#j1330_LiCa_dist=make_dist(j1330_LiCa_DP,wd_abund_table.loc['SDSSJ1330+6435']['li/ca_err'], n_random)\n",
    "\n",
    "wd_list=[\n",
    "    'SDSSJ1330+6435',\n",
    "    'GaiaJ1644-0449',\n",
    "    'WDJ2356-209',\n",
    "]\n",
    "\n",
    "pop_list=[\n",
    "    'thin',\n",
    "    'thick',\n",
    "    'halo'\n",
    "]\n",
    "def plot_wd_ALi(wd_name, pop):\n",
    "    wd_lica_ep=wd_abund_table.loc[wd_name]['li/ca']\n",
    "    if pop=='thin':\n",
    "        wd_ALi_vals=wd_lica_ep+(CaFe_thin+FeH_thin)+lodders_table.loc['Ca']['A_el']\n",
    "        plt.plot(FeH_thin, wd_ALi_vals,  color=color_dict[wd_name], linestyle=line_dict[pop])\n",
    "        fill_under(FeH_thin, wd_ALi_vals, wd_name)\n",
    "    elif pop=='thick':\n",
    "        wd_ALi_vals=wd_lica_ep+(CaFe_thick+FeH_thick)+lodders_table.loc['Ca']['A_el']\n",
    "        plt.plot(FeH_thick, wd_ALi_vals,  color=color_dict[wd_name], linestyle=line_dict[pop])\n",
    "        fill_under(FeH_thick, wd_ALi_vals, wd_name)\n",
    "    elif pop=='halo':\n",
    "        wd_ALi_vals=wd_lica_ep+(CaFe_halo+FeH_halo)+lodders_table.loc['Ca']['A_el']\n",
    "        plt.plot(FeH_halo, wd_ALi_vals,  color=color_dict[wd_name], linestyle=line_dict[pop])\n",
    "        fill_under(FeH_halo, wd_ALi_vals, wd_name)\n",
    "    return\n",
    "\n",
    "\n",
    "\n",
    "j1644_LiCa_dist=make_dist(wd_abund_table.loc['GaiaJ1644-0449']['li/ca'],wd_abund_table.loc['GaiaJ1644-0449']['li/ca_err'], n_random)\n",
    "j1330_LiCa_dist=make_dist(wd_abund_table.loc['SDSSJ1330+6435']['li/ca'],wd_abund_table.loc['SDSSJ1330+6435']['li/ca_err'], n_random)\n",
    "\n",
    "\n",
    "CaFe_dist=make_dist(get_CaFe_thin(FeH_thin[-1]), 0.1, n_random)\n",
    "ACa_dist=make_dist(lodders_table.loc['Ca']['A_el'], lodders_table.loc['Ca']['A_el_err'],n_random)\n",
    "\n",
    "\n",
    "j1330_ALi_vals=wd_abund_table.loc['SDSSJ1330+6435']['li/ca']+(CaFe_thin+FeH_thin)+lodders_table.loc['Ca']['A_el']\n",
    "j1644_ALi_vals= wd_abund_table.loc['GaiaJ1644-0449']['li/ca']+(CaFe_thin+FeH_thin)+lodders_table.loc['Ca']['A_el']\n",
    "\n",
    "\n",
    "\n",
    "j1644_ALi_dist=j1644_LiCa_dist+CaFe_dist+FeH_thin[-1]+ACa_dist\n",
    "j1330_ALi_dist=j1330_LiCa_dist+CaFe_dist+FeH_thin[-1]+ACa_dist\n",
    "j1644_ALi_err= np.std(j1644_ALi_dist)\n",
    "j1330_ALi_err= np.std(j1330_ALi_dist)\n",
    "print(j1644_ALi_err, j1330_ALi_err)\n",
    "\n",
    "plt.figure(figsize=(10,10))\n",
    "\n",
    "for wd in wd_list:\n",
    "    for pop in pop_list:\n",
    "        plot_wd_ALi(wd,pop)\n",
    "\n",
    "bp.plot_ALi_FeH(colors=pop_colors, marker=star_marker)\n",
    "\n",
    "#plt.plot(FeH_thin,j1330_ALi_vals ,  color=color_dict['SDSSJ1330+6435'], linestyle=line_dict['thin'])\n",
    "#plt.errorbar(FeH_thin[8], j1330_ALi_vals[8], yerr=j1330_ALi_err, color='r',label=wd_abund_table.loc['SDSSJ1330+6435']['name']+' thin disk EP',marker='o')\n",
    "\n",
    "\n",
    "#plt.plot(FeH_thin, j1644_ALi_vals,  color=color_dict['GaiaJ1644-0449'], linestyle=line_dict['thin'])\n",
    "#fill_under(FeH_thin, j1644_ALi_vals, 'GaiaJ1644-0449')\n",
    "#plt.errorbar(FeH_thin[3], j1644_ALi_vals[3], yerr=j1644_ALi_err, color='b',label=wd_abund_table.loc['GaiaJ1644-0449']['name']+' thin disk EP', marker='o')\n",
    "\n",
    "###########\n",
    "\n",
    "CaFe_dist=make_dist(CaFe_thick, CaFe_thick_err, n_random)\n",
    "ACa_dist=make_dist(lodders_table.loc['Ca']['A_el'], lodders_table.loc['Ca']['A_el_err'],n_random)\n",
    "\n",
    "\n",
    "j1330_ALi_vals=wd_abund_table.loc['SDSSJ1330+6435']['li/ca']+(CaFe_thick+FeH_thick)+lodders_table.loc['Ca']['A_el']\n",
    "j1644_ALi_vals= wd_abund_table.loc['GaiaJ1644-0449']['li/ca']+(CaFe_thick+FeH_thick)+lodders_table.loc['Ca']['A_el']\n",
    "\n",
    "\n",
    "\n",
    "j1644_ALi_dist=j1644_LiCa_dist+CaFe_dist+FeH_thick[-1]+ACa_dist\n",
    "j1330_ALi_dist=j1330_LiCa_dist+CaFe_dist+FeH_thick[-1]+ACa_dist\n",
    "j1644_ALi_err= np.std(j1644_ALi_dist)\n",
    "j1330_ALi_err= np.std(j1330_ALi_dist)\n",
    "print(j1644_ALi_err, j1330_ALi_err)\n",
    "\n",
    "#plt.plot(FeH_thick,j1330_ALi_vals ,  color=color_dict['SDSSJ1330+6435'], linestyle=line_dict['thick'])\n",
    "plt.errorbar(FeH_thick[5], j1330_ALi_vals[5], label=wd_abund_table.loc['SDSSJ1330+6435']['name']+' thick disk EP',yerr=j1330_ALi_err, color=color_dict['SDSSJ1330+6435'],marker=wd_marker, markersize=wd_size)\n",
    "\n",
    "\n",
    "#plt.plot(FeH_thick, j1644_ALi_vals,  color=color_dict['GaiaJ1644-0449'], linestyle=line_dict['thick'])\n",
    "plt.errorbar(FeH_thick[0], j1644_ALi_vals[0],label=wd_abund_table.loc['GaiaJ1644-0449']['name']+' thick disk EP', yerr=j1644_ALi_err, color=color_dict['GaiaJ1644-0449'], marker=wd_marker, markersize=wd_size)\n",
    "#fill_under(FeH_thick, j1644_ALi_vals, 'GaiaJ1644-0449')\n",
    "\n",
    "\n",
    "\n",
    "j1330_ALi_vals=wd_abund_table.loc['SDSSJ1330+6435']['li/ca']+(CaFe_halo+FeH_halo)+lodders_table.loc['Ca']['A_el']\n",
    "j1644_ALi_vals= wd_abund_table.loc['GaiaJ1644-0449']['li/ca']+(CaFe_halo+FeH_halo)+lodders_table.loc['Ca']['A_el']\n",
    "\n",
    "#plt.plot(FeH_halo,j1330_ALi_vals ,  color=color_dict['SDSSJ1330+6435'], linestyle=line_dict['halo'])\n",
    "#plt.plot(FeH_halo, j1644_ALi_vals,  color=color_dict['GaiaJ1644-0449'], linestyle=line_dict['halo'])\n",
    "#fill_under(FeH_halo, j1644_ALi_vals, 'GaiaJ1644-0449')\n",
    "\n",
    "\n",
    "\n",
    "\n",
    "\n",
    "#plt.plot([0,0,0],[4.0,4.6,4.8],linestyle='None', marker='o',label='Solar relations for scaling')\n",
    "############\n",
    "\n",
    "\n",
    "#plt.plot(FeH_thin, LiHe_to_ALi(wd_abund_table.loc['SDSSJ1330+6435'], CaFe_thin, FeH_thin, phase='EP'), label=wd_abund_table.loc['SDSSJ1330+6435']['name']+' thin disk EP')\n",
    "#plt.plot(FeH_thick, LiHe_to_ALi(wd_abund_table.loc['WDJ2356-209'], CaFe_thick, FeH_thick, phase='EP'),  color=color_dict['WDJ2356-209'], linestyle=line_dict['thick'])\n",
    "plt.errorbar(FeH_thick[0], LiHe_to_ALi(wd_abund_table.loc['WDJ2356-209'], CaFe_thick, FeH_thick, phase='EP')[0],label=wd_abund_table.loc['WDJ2356-209']['name']+' thick disk EP',yerr=0.2, uplims=True, color=color_dict['WDJ2356-209'], marker=wd_marker, markersize=wd_size)\n",
    "\n",
    "#plt.plot(FeH_halo, LiHe_to_ALi(wd_abund_table.loc['WDJ2356-209'], CaFe_halo, FeH_halo, phase='EP'),  color=color_dict['WDJ2356-209'], linestyle=line_dict['halo'])\n",
    "\n",
    "\n",
    "\n",
    "#plt.axvline(x=0,linestyle=':', color='grey')\n",
    "#plt.axhline(y=lodders_table.loc['Li']['A_el'],linestyle=':', color='grey')\n",
    "#plt.title('All assumed to be in Early Phase (or approximately Early Phase at least)')\n",
    "#plt.grid(True)\n",
    "make_plot()"
   ]
  },
  {
   "cell_type": "code",
   "execution_count": null,
   "metadata": {},
   "outputs": [],
   "source": []
  },
  {
   "cell_type": "code",
   "execution_count": null,
   "metadata": {},
   "outputs": [],
   "source": []
  },
  {
   "cell_type": "code",
   "execution_count": null,
   "metadata": {},
   "outputs": [],
   "source": []
  }
 ],
 "metadata": {
  "kernelspec": {
   "display_name": "Python 3",
   "language": "python",
   "name": "python3"
  },
  "language_info": {
   "codemirror_mode": {
    "name": "ipython",
    "version": 3
   },
   "file_extension": ".py",
   "mimetype": "text/x-python",
   "name": "python",
   "nbconvert_exporter": "python",
   "pygments_lexer": "ipython3",
   "version": "3.6.5"
  }
 },
 "nbformat": 4,
 "nbformat_minor": 4
}
