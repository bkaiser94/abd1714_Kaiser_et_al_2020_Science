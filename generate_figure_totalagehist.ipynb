{
 "cells": [
  {
   "cell_type": "markdown",
   "metadata": {},
   "source": [
    "# Generate the total age histograms in the stacked figure format\n",
    "\n",
    "This was figure S6 in the initial submission"
   ]
  },
  {
   "cell_type": "code",
   "execution_count": 1,
   "metadata": {},
   "outputs": [
    {
     "name": "stdout",
     "output_type": "stream",
     "text": [
      "1603171634.895181\n"
     ]
    },
    {
     "name": "stderr",
     "output_type": "stream",
     "text": [
      "No handles with labels found to put in legend.\n"
     ]
    },
    {
     "name": "stdout",
     "output_type": "stream",
     "text": [
      "\n",
      "\n",
      "no file_setting specificied\n",
      "\n",
      "\n",
      "(116, 4, 27)\n",
      "(4, 27, 116)\n",
      "(116,)\n",
      "(116,)\n",
      "(27, 116)\n",
      "(116,)\n",
      "(116,)\n",
      "(27, 116)\n",
      "(116,)\n",
      "(116,)\n",
      "(27, 116)\n",
      "(116,)\n",
      "(116,)\n",
      "(27, 116)\n"
     ]
    }
   ],
   "source": [
    "from __future__ import print_function\n",
    "\n",
    "import matplotlib\n",
    "matplotlib.use('pdf')\n",
    "    \n",
    "import numpy as np\n",
    "import matplotlib.pyplot as plt\n",
    "import sys\n",
    "import os\n",
    "from astropy.io import fits\n",
    "from glob import glob\n",
    "from astropy.time import Time\n",
    "from astropy import coordinates as coords\n",
    "from astropy import units as u\n",
    "from astropy import constants as const\n",
    "from astropy import convolution as conv\n",
    "from astropy.table import Table, Column\n",
    "import scipy.interpolate as scinterp\n",
    "import time\n",
    "import periodictable as pt\n",
    "\n",
    "start = time.time()\n",
    "print(start)\n",
    "time_string=str(start).split('.')[0]\n",
    "\n",
    "from mendeleev import O, Ca, Li, Na, Si, Fe, Mg, He\n",
    "start = time.time()\n",
    "\n",
    "#import wdatmos\n",
    "import spec_plot_tools as spt\n",
    "import cal_params as cp\n",
    "import plot_spec as ps\n",
    "import abundance_corrections as acorr\n",
    "import interp_tau as itau\n",
    "#print(os.getcwd())"
   ]
  },
  {
   "cell_type": "code",
   "execution_count": 2,
   "metadata": {},
   "outputs": [],
   "source": [
    "plt.show()"
   ]
  },
  {
   "cell_type": "code",
   "execution_count": 3,
   "metadata": {},
   "outputs": [],
   "source": [
    "#figure_output_dir='/Users/BenKaiser/Desktop/GaiaJ1644m0449_paper/First_Revision/figures'\n",
    "figure_output_dir='/Users/BenKaiser/Desktop/GaiaJ1644m0449_paper/ApJ_reformat/figures'"
   ]
  },
  {
   "cell_type": "code",
   "execution_count": 4,
   "metadata": {},
   "outputs": [],
   "source": [
    "target_dir= '/Users/BenKaiser/Desktop/GaiaJ1644m0449_paper/'\n",
    "os.chdir(target_dir)"
   ]
  },
  {
   "cell_type": "code",
   "execution_count": 5,
   "metadata": {},
   "outputs": [],
   "source": [
    "\n",
    "npoints=100\n",
    "color_dict={\n",
    "    'GaiaJ1644-0449':'#ff0000',\n",
    "    'SDSSJ1330+6435':'#8900ff',\n",
    "    'WDJ2356-209':'#00ffc5'#'#b0ff00'\n",
    "}\n",
    "\n",
    "fill_dict={\n",
    "    'GaiaJ1644-0449':'#ffc3c3',#'#ff8282',\n",
    "    'SDSSJ1330+6435':'#d0a3ff',#'#c689fb',\n",
    "    'WDJ2356-209':'#ebfffb'#'#d4fb7e'\n",
    "}\n",
    "\n",
    "pattern_dict={\n",
    "    'GaiaJ1644-0449':'#ffc3c3',\n",
    "    'SDSSJ1330+6435':'#d0a3ff',\n",
    "    'WDJ2356-209':'#ebfffb'\n",
    "}\n",
    "step_dict={\n",
    "    'GaiaJ1644-0449':10,\n",
    "    'SDSSJ1330+6435':0.1,\n",
    "    'WDJ2356-209':10\n",
    "}\n",
    "pos_dict={\n",
    "    'GaiaJ1644-0449':0,\n",
    "    'SDSSJ1330+6435':5,\n",
    "    'WDJ2356-209':10 #'#b0ff00'\n",
    "}\n",
    "\n",
    "ssp_pos=2 #offset in addition to object offset for the case of steady-state\n",
    "\n",
    "#making the points be in the middle of the line\n",
    "for pos in pos_dict:\n",
    "    pos_dict[pos]=int(npoints/2.+pos_dict[pos])\n",
    "\n",
    "\n",
    "\n",
    "line_dict={\n",
    "    'thin': ':',\n",
    "    'thick':'-',\n",
    "    'halo':'-.'\n",
    "}\n",
    "\n",
    "wd_marker='*'\n",
    "met_marker='D'\n",
    "met_color='#1ca1f2'\n",
    "ci_size=14\n",
    "wd_size=14\n",
    "ci_leg_size=9\n",
    "dp_alpha=0.5\n",
    "arr_naca=[-0.4,-0.1]\n",
    "alpha_range=[0.5,0.2]\n",
    "arrow_segs=100\n",
    "arrow_width=0.03\n",
    "arrow_line=4\n",
    "letter_off=-3\n",
    "\n",
    "star_marker='o'\n",
    "pop_colors=['darkorange','brown','navy','grey'] #thin disk, thick disk, halo, in-between for Bensby plots\n",
    "\n",
    "spite_alpha=1\n",
    "\n",
    "\n"
   ]
  },
  {
   "cell_type": "code",
   "execution_count": 6,
   "metadata": {},
   "outputs": [],
   "source": [
    "J1644_file='GaiaJ1644m0449_tot_age_MC.csv'\n",
    "J1330_file='SDSSJ1330p6435_tot_age_MC.csv'\n",
    "J2356_file='WDJ2356m209_tot_age_MC.csv'\n",
    "wd_abund_file='temp_wd_abundances.csv'"
   ]
  },
  {
   "cell_type": "code",
   "execution_count": 7,
   "metadata": {},
   "outputs": [],
   "source": [
    "J1644_mc= np.genfromtxt(J1644_file)\n",
    "J1330_mc= np.genfromtxt(J1330_file)\n",
    "J2356_mc= np.genfromtxt(J2356_file)"
   ]
  },
  {
   "cell_type": "code",
   "execution_count": 8,
   "metadata": {},
   "outputs": [],
   "source": [
    "wd_abund_table=Table.read(wd_abund_file)\n",
    "wd_abund_table.add_index('name')"
   ]
  },
  {
   "cell_type": "code",
   "execution_count": 9,
   "metadata": {},
   "outputs": [],
   "source": [
    "def plot_ml(row, ypos=0.95):\n",
    "    age_errs= [[row['age_minus']],[row['age_plus']]]\n",
    "    plt.errorbar(float(row['age']),ypos,xerr=age_errs,label=row['name'],marker=wd_marker, color=color_dict[row['name']],markersize=wd_size, linestyle='None')\n",
    "    return"
   ]
  },
  {
   "cell_type": "code",
   "execution_count": 25,
   "metadata": {},
   "outputs": [
    {
     "name": "stdout",
     "output_type": "stream",
     "text": [
      "/Users/BenKaiser/Desktop/GaiaJ1644m0449_paper/ApJ_reformat/figures\n",
      "/Users/BenKaiser/Desktop/GaiaJ1644m0449_paper/ApJ_reformat/figures\n",
      "1603172791.239831\n"
     ]
    }
   ],
   "source": [
    "ypos=1\n",
    "#text_pos= [0.5,0.8]\n",
    "#text_pos=[3.5,ypos]\n",
    "#text_pos=[10.25,ypos-0.2]\n",
    "text_pos=[10.25,ypos+0.07]\n",
    "\n",
    "\n",
    "\n",
    "trunc_ticklabels=[0,0.2,0.4,0.6,0.8,1.0]\n",
    "full_ticklabels=[0,0.2,0.4,0.6,0.8,1.0,1.2]\n",
    "#trunc_ticklabels=[0,'',0.4,'',0.8,'']\n",
    "#full_ticklabels=[0,'',0.4,'',0.8,'',1.2]\n",
    "\n",
    "#trunc_ticklabels=[0,'',0.5,'',1.0,'']\n",
    "#full_ticklabels=trunc_ticklabels\n",
    "\n",
    "perc_steps=[16,50,84]\n",
    "bins=np.arange(0,15,0.1)\n",
    "#bins=np.arange(0,15,0.01)\n",
    "spt.initiate_science_plot()\n",
    "#plt.figure(figsize=(12,8))\n",
    "#plt.figure(figsize=(7.25,7.25), constrained_layout=True)\n",
    "#plt.figure(figsize=(6.,6.), constrained_layout=True)\n",
    "#plt.figure(figsize=(4.,4.), constrained_layout=True)\n",
    "\n",
    "\n",
    "spt.start_ApJ_fig(width_cols=1,constrained_layout=True, width_height=[1.,1.7])\n",
    "\n",
    "ax3=plt.subplot(3,1,3)\n",
    "plt.hist(J2356_mc, bins=bins,normed=True, color=color_dict['WDJ2356-209'])\n",
    "#for perc in perc_steps:\n",
    "#    plt.axvline(x=np.percentile(J2356_mc,perc), color='grey',linestyle=':')\n",
    "plot_ml(wd_abund_table.loc['WDJ2356-209'], ypos=ypos)\n",
    "plt.xlabel('Total Age (Gyr)')\n",
    "#plt.text(text_pos[0],text_pos[1],'C')\n",
    "plt.text(text_pos[0],text_pos[1],'WD J2356-209')\n",
    "#plt.text(text_pos[0]+letter_off,text_pos[1],'C', fontdict={'size':10,'weight':'bold'})\n",
    "plt.axvline(13.8, color='k',linestyle=':')\n",
    "ax2=plt.subplot(3,1,2, sharey=ax3)\n",
    "plt.hist(J1330_mc, bins=bins, normed=True, color=color_dict['SDSSJ1330+6435'])\n",
    "#for perc in perc_steps:\n",
    "#    plt.axvline(x=np.percentile(J1330_mc,perc), color='grey',linestyle=':')\n",
    "plot_ml(wd_abund_table.loc['SDSSJ1330+6435'], ypos=ypos)\n",
    "#plt.text(text_pos[0]+letter_off,text_pos[1],'B', fontdict={'size':10,'weight':'bold'})\n",
    "\n",
    "\n",
    "#plt.text(text_pos[0],text_pos[1],'B')\n",
    "plt.text(text_pos[0],text_pos[1],'SDSS J1330+6435')\n",
    "\n",
    "plt.ylabel('Probability Density')\n",
    "plt.axvline(13.8, color='k',linestyle=':')\n",
    "ax1=plt.subplot(3,1,1)\n",
    "plt.hist(J1644_mc, bins=bins, normed=True, color=color_dict['GaiaJ1644-0449'])\n",
    "#for perc in perc_steps:\n",
    "#    plt.axvline(x=np.percentile(J1644_mc,perc), color='grey',linestyle=':')\n",
    "plot_ml(wd_abund_table.loc['GaiaJ1644-0449'],ypos=ypos)\n",
    "#plt.text(text_pos[0],text_pos[1],'A')\n",
    "plt.text(text_pos[0],text_pos[1],'Gaia J1644-0449')\n",
    "#plt.text(text_pos[0]+letter_off,text_pos[1],'A', fontdict={'size':10,'weight':'bold'})\n",
    "\n",
    "\n",
    "plt.axvline(13.8, color='k',linestyle=':')\n",
    "#ax1.set_xticklabels([])\n",
    "ax1.get_shared_x_axes().join(ax1,ax3)\n",
    "ax2.get_shared_x_axes().join(ax2,ax3)\n",
    "ax1.set_xticklabels([])\n",
    "ax2.set_xticklabels([])\n",
    "#ax2.set_yticklabels([0,0.2,0.4,0.6,0.8,1.0])\n",
    "ax2.set_yticklabels(trunc_ticklabels)\n",
    "ax1.get_shared_y_axes().join(ax1,ax3)\n",
    "#ax1.set_yticklabels([0,0.2,0.4,0.6,0.8,1.0,1.2])\n",
    "ax1.set_yticklabels(full_ticklabels)\n",
    "#plt.subplots_adjust(hspace=0)\n",
    "plt.subplots_adjust(hspace=0, left=0.15,right=0.95, top=0.95,bottom=0.1)\n",
    "#plt.xlim(0,14)\n",
    "plt.xlim(6,14)\n",
    "#plt.xlim(6,10)\n",
    "#plt.text(0,0,'J1644')\n",
    "plt.ylim(0,1.2)\n",
    "\n",
    "\n",
    "print(os.getcwd())\n",
    "os.chdir(figure_output_dir)\n",
    "print(os.getcwd())\n",
    "start = time.time()\n",
    "print(start)\n",
    "time_string=str(start).split('.')[0]\n",
    "\n",
    "plt.savefig('figure_totalagehist_'+time_string+'.pdf')#plt.grid(True)\n",
    "\n",
    "\n",
    "\n",
    "plt.show()"
   ]
  },
  {
   "cell_type": "code",
   "execution_count": null,
   "metadata": {},
   "outputs": [],
   "source": []
  }
 ],
 "metadata": {
  "kernelspec": {
   "display_name": "Python 3",
   "language": "python",
   "name": "python3"
  },
  "language_info": {
   "codemirror_mode": {
    "name": "ipython",
    "version": 3
   },
   "file_extension": ".py",
   "mimetype": "text/x-python",
   "name": "python",
   "nbconvert_exporter": "python",
   "pygments_lexer": "ipython3",
   "version": "3.6.5"
  }
 },
 "nbformat": 4,
 "nbformat_minor": 4
}
