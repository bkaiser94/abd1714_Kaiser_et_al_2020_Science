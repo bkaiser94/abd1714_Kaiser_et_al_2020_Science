{
 "cells": [
  {
   "cell_type": "markdown",
   "metadata": {},
   "source": [
    "# Generate the Figure \"Age estimates as functions of white dwarf mass.\"\n",
    "\n",
    "Basically we're taking the plot that would normally be generated inside the cooling_model_analysis.py code and putting it into an external notebook so we can more easily make the plot play nicely. We also don't have to rerun the simulation every time now to get the plot all the way right."
   ]
  },
  {
   "cell_type": "code",
   "execution_count": 1,
   "metadata": {},
   "outputs": [
    {
     "name": "stdout",
     "output_type": "stream",
     "text": [
      "1600305683.471039\n"
     ]
    },
    {
     "name": "stderr",
     "output_type": "stream",
     "text": [
      "No handles with labels found to put in legend.\n"
     ]
    },
    {
     "name": "stdout",
     "output_type": "stream",
     "text": [
      "\n",
      "\n",
      "no file_setting specificied\n",
      "\n",
      "\n",
      "(116, 4, 27)\n",
      "(4, 27, 116)\n",
      "(116,)\n",
      "(116,)\n",
      "(27, 116)\n",
      "(116,)\n",
      "(116,)\n",
      "(27, 116)\n",
      "(116,)\n",
      "(116,)\n",
      "(27, 116)\n",
      "(116,)\n",
      "(116,)\n",
      "(27, 116)\n"
     ]
    }
   ],
   "source": [
    "from __future__ import print_function\n",
    "\n",
    "import matplotlib\n",
    "matplotlib.use('pdf')\n",
    "    \n",
    "import numpy as np\n",
    "import matplotlib.pyplot as plt\n",
    "import sys\n",
    "import os\n",
    "from astropy.io import fits\n",
    "from glob import glob\n",
    "from astropy.time import Time\n",
    "from astropy import coordinates as coords\n",
    "from astropy import units as u\n",
    "from astropy import constants as const\n",
    "from astropy import convolution as conv\n",
    "from astropy.table import Table, Column\n",
    "import scipy.interpolate as scinterp\n",
    "import time\n",
    "import periodictable as pt\n",
    "\n",
    "start = time.time()\n",
    "print(start)\n",
    "time_string=str(start).split('.')[0]\n",
    "\n",
    "from mendeleev import O, Ca, Li, Na, Si, Fe, Mg, He\n",
    "start = time.time()\n",
    "\n",
    "#import wdatmos\n",
    "import spec_plot_tools as spt\n",
    "import cal_params as cp\n",
    "import plot_spec as ps\n",
    "import abundance_corrections as acorr\n",
    "import interp_tau as itau\n",
    "#print(os.getcwd())"
   ]
  },
  {
   "cell_type": "code",
   "execution_count": 2,
   "metadata": {},
   "outputs": [],
   "source": [
    "plt.show()"
   ]
  },
  {
   "cell_type": "code",
   "execution_count": 3,
   "metadata": {},
   "outputs": [],
   "source": [
    "figure_output_dir='/Users/BenKaiser/Desktop/GaiaJ1644m0449_paper/First_Revision/figures'"
   ]
  },
  {
   "cell_type": "code",
   "execution_count": 4,
   "metadata": {},
   "outputs": [],
   "source": [
    "target_dir= '/Users/BenKaiser/Desktop/GaiaJ1644m0449_paper/'\n",
    "os.chdir(target_dir)"
   ]
  },
  {
   "cell_type": "code",
   "execution_count": 5,
   "metadata": {},
   "outputs": [],
   "source": [
    "\n",
    "npoints=100\n",
    "color_dict={\n",
    "    'GaiaJ1644-0449':'#ff0000',\n",
    "    'SDSSJ1330+6435':'#8900ff',\n",
    "    'WDJ2356-209':'#00ffc5'#'#b0ff00'\n",
    "}\n",
    "\n",
    "fill_dict={\n",
    "    'GaiaJ1644-0449':'#ffc3c3',#'#ff8282',\n",
    "    'SDSSJ1330+6435':'#d0a3ff',#'#c689fb',\n",
    "    'WDJ2356-209':'#ebfffb'#'#d4fb7e'\n",
    "}\n",
    "\n",
    "pattern_dict={\n",
    "    'GaiaJ1644-0449':'#ffc3c3',\n",
    "    'SDSSJ1330+6435':'#d0a3ff',\n",
    "    'WDJ2356-209':'#ebfffb'\n",
    "}\n",
    "step_dict={\n",
    "    'GaiaJ1644-0449':10,\n",
    "    'SDSSJ1330+6435':0.1,\n",
    "    'WDJ2356-209':10\n",
    "}\n",
    "pos_dict={\n",
    "    'GaiaJ1644-0449':0,\n",
    "    'SDSSJ1330+6435':5,\n",
    "    'WDJ2356-209':10 #'#b0ff00'\n",
    "}\n",
    "\n",
    "ssp_pos=2 #offset in addition to object offset for the case of steady-state\n",
    "\n",
    "#making the points be in the middle of the line\n",
    "for pos in pos_dict:\n",
    "    pos_dict[pos]=int(npoints/2.+pos_dict[pos])\n",
    "\n",
    "\n",
    "\n",
    "line_dict={\n",
    "    'thin': ':',\n",
    "    'thick':'-',\n",
    "    'halo':'-.'\n",
    "}\n",
    "\n",
    "wd_marker='*'\n",
    "met_marker='D'\n",
    "met_color='#1ca1f2'\n",
    "ci_size=14\n",
    "wd_size=14\n",
    "ci_leg_size=9\n",
    "dp_alpha=0.5\n",
    "arr_naca=[-0.4,-0.1]\n",
    "alpha_range=[0.5,0.2]\n",
    "arrow_segs=100\n",
    "arrow_width=0.03\n",
    "arrow_line=4\n",
    "letter_off=-3\n",
    "\n",
    "star_marker='o'\n",
    "pop_colors=['darkorange','brown','navy','grey'] #thin disk, thick disk, halo, in-between for Bensby plots\n",
    "\n",
    "spite_alpha=1\n",
    "\n",
    "\n",
    "\n"
   ]
  },
  {
   "cell_type": "code",
   "execution_count": 6,
   "metadata": {},
   "outputs": [],
   "source": [
    "mass_dist_file='J1644_s5_mass_dist.csv'\n",
    "prog_file='progenitor_ages.csv'\n",
    "cool_file='cooling_ages.csv'\n",
    "total_age_file='total_ages.csv'"
   ]
  },
  {
   "cell_type": "code",
   "execution_count": 7,
   "metadata": {},
   "outputs": [],
   "source": [
    "mass_dist=np.genfromtxt(mass_dist_file, delimiter=',')\n",
    "prog_line=np.genfromtxt(prog_file,delimiter=',')\n",
    "cool_line=np.genfromtxt(cool_file,delimiter=',')\n",
    "total_line=np.genfromtxt(total_age_file,delimiter=',')"
   ]
  },
  {
   "cell_type": "code",
   "execution_count": 8,
   "metadata": {},
   "outputs": [
    {
     "name": "stdout",
     "output_type": "stream",
     "text": [
      "(1000000,)\n",
      "(2, 1000)\n",
      "(2, 1000)\n",
      "(2, 1000)\n"
     ]
    }
   ],
   "source": [
    "print(mass_dist.shape)\n",
    "print(prog_line.shape)\n",
    "print(cool_line.shape)\n",
    "print(total_line.shape)"
   ]
  },
  {
   "cell_type": "code",
   "execution_count": 10,
   "metadata": {},
   "outputs": [
    {
     "name": "stdout",
     "output_type": "stream",
     "text": [
      "/Users/BenKaiser/Desktop/GaiaJ1644m0449_paper/First_Revision/figures\n",
      "/Users/BenKaiser/Desktop/GaiaJ1644m0449_paper/First_Revision/figures\n",
      "1600305721.698842\n"
     ]
    }
   ],
   "source": [
    "spt.initiate_science_plot()\n",
    "plt.figure(figsize=(6.,4.), constrained_layout=True)\n",
    "\n",
    "plt.hist(mass_dist, label='WD Mass Distribution',normed=1,color='k',bins=50)\n",
    "plt.plot(prog_line[0],prog_line[1],label='Progenitor Lifetimes',color='r')\n",
    "plt.plot(cool_line[0],cool_line[1],label='WD Cooling Ages',color='b')\n",
    "plt.plot(total_line[0],total_line[1],label='Total Ages',color='purple')\n",
    "plt.axhline(y=13.8, color='k', linestyle= ':' )\n",
    "plt.xlabel(r'M$_{wd}$ (M$_{\\odot}$)')\n",
    "plt.ylabel('Age (Gyr)')\n",
    "plt.ylim(0,15)\n",
    "plt.legend(loc='best',framealpha=1)\n",
    "\n",
    "\n",
    "print(os.getcwd())\n",
    "os.chdir(figure_output_dir)\n",
    "print(os.getcwd())\n",
    "start = time.time()\n",
    "print(start)\n",
    "time_string=str(start).split('.')[0]\n",
    "\n",
    "plt.savefig('figure_agefunctions_'+time_string+'.pdf')#plt.grid(True)\n",
    "\n",
    "\n",
    "plt.show()\n"
   ]
  },
  {
   "cell_type": "code",
   "execution_count": null,
   "metadata": {},
   "outputs": [],
   "source": []
  }
 ],
 "metadata": {
  "kernelspec": {
   "display_name": "Python 3",
   "language": "python",
   "name": "python3"
  },
  "language_info": {
   "codemirror_mode": {
    "name": "ipython",
    "version": 3
   },
   "file_extension": ".py",
   "mimetype": "text/x-python",
   "name": "python",
   "nbconvert_exporter": "python",
   "pygments_lexer": "ipython3",
   "version": "3.6.5"
  }
 },
 "nbformat": 4,
 "nbformat_minor": 4
}
