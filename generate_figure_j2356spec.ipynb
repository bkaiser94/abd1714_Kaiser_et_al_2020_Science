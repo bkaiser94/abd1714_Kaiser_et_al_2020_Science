{
 "cells": [
  {
   "cell_type": "markdown",
   "metadata": {},
   "source": [
    "# Generate Figure showing J2356 goodman spectrum around potassium lines"
   ]
  },
  {
   "cell_type": "markdown",
   "metadata": {},
   "source": []
  },
  {
   "cell_type": "code",
   "execution_count": 1,
   "metadata": {},
   "outputs": [
    {
     "name": "stdout",
     "output_type": "stream",
     "text": [
      "1606516548.5904481\n"
     ]
    },
    {
     "name": "stderr",
     "output_type": "stream",
     "text": [
      "No handles with labels found to put in legend.\n"
     ]
    },
    {
     "name": "stdout",
     "output_type": "stream",
     "text": [
      "\n",
      "\n",
      "no file_setting specificied\n",
      "\n",
      "\n",
      "(116, 4, 27)\n",
      "(4, 27, 116)\n",
      "(116,)\n",
      "(116,)\n",
      "(27, 116)\n",
      "(116,)\n",
      "(116,)\n",
      "(27, 116)\n",
      "(116,)\n",
      "(116,)\n",
      "(27, 116)\n",
      "(116,)\n",
      "(116,)\n",
      "(27, 116)\n"
     ]
    }
   ],
   "source": [
    "from __future__ import print_function\n",
    "\n",
    "import matplotlib\n",
    "matplotlib.use('pdf')\n",
    "    \n",
    "import numpy as np\n",
    "import matplotlib.pyplot as plt\n",
    "import sys\n",
    "import os\n",
    "from astropy.io import fits\n",
    "from glob import glob\n",
    "from astropy.time import Time\n",
    "from astropy import coordinates as coords\n",
    "from astropy import units as u\n",
    "from astropy import constants as const\n",
    "from astropy import convolution as conv\n",
    "from astropy.table import Table, Column\n",
    "import scipy.interpolate as scinterp\n",
    "import time\n",
    "import periodictable as pt\n",
    "\n",
    "start = time.time()\n",
    "print(start)\n",
    "time_string=str(start).split('.')[0]\n",
    "\n",
    "from mendeleev import O, Ca, Li, Na, Si, Fe, Mg, He\n",
    "start = time.time()\n",
    "\n",
    "#import wdatmos\n",
    "import spec_plot_tools as spt\n",
    "import cal_params as cp\n",
    "import plot_spec as ps\n",
    "import abundance_corrections as acorr\n",
    "import interp_tau as itau\n",
    "import fix_strings as fs\n",
    "\n",
    "#print(os.getcwd())"
   ]
  },
  {
   "cell_type": "code",
   "execution_count": 2,
   "metadata": {},
   "outputs": [],
   "source": [
    "plt.show()"
   ]
  },
  {
   "cell_type": "code",
   "execution_count": 3,
   "metadata": {},
   "outputs": [],
   "source": [
    "#figure_output_dir='/Users/BenKaiser/Desktop/GaiaJ1644m0449_paper/First_Revision/figures'\n",
    "figure_output_dir='/Users/BenKaiser/Desktop/GaiaJ1644m0449_paper/Science_versions/Third_Revision/figures'"
   ]
  },
  {
   "cell_type": "code",
   "execution_count": 4,
   "metadata": {},
   "outputs": [],
   "source": [
    "#figure_output_dir='/Users/BenKaiser/Desktop/GaiaJ1644m0449_paper/ApJ_reformat/figures'"
   ]
  },
  {
   "cell_type": "code",
   "execution_count": 5,
   "metadata": {},
   "outputs": [],
   "source": [
    "target_dir= '/Users/BenKaiser/Desktop/GaiaJ1644m0449_paper/'\n",
    "os.chdir(target_dir)"
   ]
  },
  {
   "cell_type": "code",
   "execution_count": 6,
   "metadata": {},
   "outputs": [],
   "source": [
    "#target_nocorr_file='ravg_fwctb.GaiaJ1644m0449_20190825_400m2.fits'\n",
    "target_tellcorr_file='ravg_fwctb.WD2356m209_20190601_ted_tellcorr_400m2.fits'\n",
    "#model_spec_file='J1644_fit_flambda.dms'\n",
    "#target_nocorr_file=target_dir+target_nocorr_file\n",
    "target_tellcorr_file=target_dir+target_tellcorr_file\n",
    "#model_spec_file= target_dir+model_spec_file\n",
    "#print(model_spec_file)"
   ]
  },
  {
   "cell_type": "code",
   "execution_count": 7,
   "metadata": {},
   "outputs": [
    {
     "name": "stdout",
     "output_type": "stream",
     "text": [
      "/Users/BenKaiser/Desktop/GaiaJ1644m0449_paper/ravg_fwctb.WD2356m209_20190601_ted_tellcorr_400m2.fits\n"
     ]
    }
   ],
   "source": [
    "print(target_tellcorr_file)\n",
    "#print(target_nocorr_file)\n",
    "targ_tellcorr_spec, targ_tellcorr_header, anoise= spt.retrieve_spec(target_tellcorr_file)\n",
    "#targ_nocorr_spec, targ_nocorr_header, bnoise= spt.retrieve_spec(target_nocorr_file)"
   ]
  },
  {
   "cell_type": "code",
   "execution_count": 8,
   "metadata": {},
   "outputs": [],
   "source": [
    "#sm_targ_tellcorr_spec= ps.convolve_spectrum(targ_tellcorr_spec, targ_tellcorr_header, kernel_type=kernel, pix_width=obs_pix_width)\n",
    "#sm_targ_nocorr_spec= ps.convolve_spectrum(targ_nocorr_spec, targ_nocorr_header, kernel_type=kernel, pix_width=obs_pix_width)\n",
    "\n",
    "#sm_targ_tellcorr_spec= ps.norm_spectrum(sm_targ_tellcorr_spec, norm_range, show_norm_range=False)\n",
    "#sm_targ_nocorr_spec= ps.norm_spectrum(sm_targ_nocorr_spec, norm_range, show_norm_range=False)\n",
    "\n",
    "\n",
    "sm_targ_tellcorr_spec= np.copy(targ_tellcorr_spec)"
   ]
  },
  {
   "cell_type": "code",
   "execution_count": 9,
   "metadata": {},
   "outputs": [
    {
     "name": "stdout",
     "output_type": "stream",
     "text": [
      "/Users/BenKaiser/Desktop/GaiaJ1644m0449_paper\n",
      "/Users/BenKaiser/Desktop/GaiaJ1644m0449_paper/Science_versions/Third_Revision/figures\n",
      "1606516549.428098\n"
     ]
    }
   ],
   "source": [
    "spt.initiate_science_plot()\n",
    "highlight_range=[7640,7720]\n",
    "\n",
    "\n",
    "#fig= plt.figure(figsize=(7.25,7.25),constrained_layout=True)\n",
    "fig= plt.figure(figsize=(6.,6.),constrained_layout=True)\n",
    "#spt.start_ApJ_fig(width_cols=2,constrained_layout=True, width_height=[1.,2./3])\n",
    "\n",
    "\n",
    "\n",
    "#highlight_range=[7640,7720]\n",
    "label_pos=3.3\n",
    "label_off=65\n",
    "x_pos= 6050\n",
    "y_pos= 1.1\n",
    "v_offset=0.3\n",
    "\n",
    "plt.axvspan(highlight_range[0], highlight_range[1], alpha=0.5, color='r')\n",
    "\n",
    "\n",
    "#plt.plot(sm_targ_nocorr_spec[0],sm_targ_nocorr_spec[1],  color='k')\n",
    "plt.plot(sm_targ_tellcorr_spec[0],sm_targ_tellcorr_spec[1], color='k')\n",
    "\n",
    "#plt.plot(sm_sdss_spec[0],sm_sdss_spec[1]+2.5*v_offset, color='k')\n",
    "\n",
    "#plt.text(x_pos, y_pos, 'No Correction', color='k')\n",
    "#plt.text(x_pos, y_pos+1.1*v_offset, 'Telluric Correction', color='k')\n",
    "#plt.text(x_pos, y_pos+2.5*v_offset, sdss_label, color='k')\n",
    "\n",
    "\n",
    "\n",
    "\n",
    "\n",
    "\n",
    "#plt.xlim(np.nanmin(sm_M0729_spec[0]), np.nanmax([sm_M0703_spec[0], sm_M0825_spec[0]]))\n",
    "plt.xlim(6000, 8500)\n",
    "#plt.ylabel(r'$f_{\\lambda} \\left(10^{-16} erg/cm^2/s/\\AA\\right)$')\n",
    "#plt.ylabel(r'$f_{\\lambda}$ ($10^{-16}$ erg/cm$^{2}$/s/$\\AA$)')\n",
    "plt.ylabel(r'Flux ($10^{-16}$ erg/cm$^{2}$/s/$\\mathrm{\\AA}$)')\n",
    "\n",
    "\n",
    "#plt.ylabel(r'$f_{\\lambda} (10^{-16}$ erg cm$^{-2}$ s $^{-1}$ $\\AA^{-1})$') #inverse power units instead of divisions\n",
    "\n",
    "\n",
    "#plt.xlabel(r'$\\lambda(\\AA)$')\n",
    "#plt.ylim(0.2,2)\n",
    "plt.ylim(0,0.45)\n",
    "spt.show_plot(line_id='', show_legend=False)\n",
    "plt.xlabel(r'Wavelength $(\\mathrm{\\AA})$')\n",
    "\n",
    "\n",
    "print(os.getcwd())\n",
    "os.chdir(figure_output_dir)\n",
    "print(os.getcwd())\n",
    "start = time.time()\n",
    "print(start)\n",
    "time_string=str(start).split('.')[0]\n",
    "\n",
    "plt.savefig('figure_j2356spec_'+time_string+'.pdf')#plt.grid(True)\n",
    "\n",
    "plt.show()"
   ]
  },
  {
   "cell_type": "code",
   "execution_count": null,
   "metadata": {},
   "outputs": [],
   "source": []
  }
 ],
 "metadata": {
  "kernelspec": {
   "display_name": "Python 3",
   "language": "python",
   "name": "python3"
  },
  "language_info": {
   "codemirror_mode": {
    "name": "ipython",
    "version": 3
   },
   "file_extension": ".py",
   "mimetype": "text/x-python",
   "name": "python",
   "nbconvert_exporter": "python",
   "pygments_lexer": "ipython3",
   "version": "3.6.5"
  }
 },
 "nbformat": 4,
 "nbformat_minor": 4
}
