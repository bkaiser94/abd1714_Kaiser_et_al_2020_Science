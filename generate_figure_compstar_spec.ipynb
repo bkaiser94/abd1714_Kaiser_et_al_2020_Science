{
 "cells": [
  {
   "cell_type": "markdown",
   "metadata": {},
   "source": [
    " # Generate Figure for supplement that demonstrates the effectiveness of telluric corrections"
   ]
  },
  {
   "cell_type": "markdown",
   "metadata": {},
   "source": [
    "This should make the figure that compares the \"comparison\" star spectrum both with and without telluric corrections to the sample K7 template spectrum to demonstrate that our telluric corrections are adequate for measuring potassium in J1644 and J2356"
   ]
  },
  {
   "cell_type": "code",
   "execution_count": 1,
   "metadata": {},
   "outputs": [
    {
     "name": "stdout",
     "output_type": "stream",
     "text": [
      "\n",
      "\n",
      "no file_setting specificied\n",
      "\n",
      "\n",
      "/Users/BenKaiser/Desktop/abd1714_Kaiser_et_al_2020_Science\n"
     ]
    }
   ],
   "source": [
    "from __future__ import print_function\n",
    "\n",
    "\n",
    "import matplotlib\n",
    "matplotlib.use('pdf')\n",
    "    \n",
    "\n",
    "import numpy as np\n",
    "import matplotlib.pyplot as plt\n",
    "import sys\n",
    "import os\n",
    "from astropy.io import fits\n",
    "from glob import glob\n",
    "from astropy.time import Time\n",
    "from astropy import coordinates as coords\n",
    "from astropy import units as u\n",
    "from astropy import constants as const\n",
    "from astropy import convolution as conv\n",
    "from astropy.table import Table, Column\n",
    "import scipy.interpolate as scinterp\n",
    "import time\n",
    "start = time.time()\n",
    "\n",
    "import spec_plot_tools as spt\n",
    "import cal_params as cp\n",
    "import plot_spec as ps\n",
    "print(os.getcwd())"
   ]
  },
  {
   "cell_type": "code",
   "execution_count": 2,
   "metadata": {},
   "outputs": [],
   "source": [
    "plt.show()"
   ]
  },
  {
   "cell_type": "code",
   "execution_count": 3,
   "metadata": {},
   "outputs": [],
   "source": [
    "figure_output_dir='/Users/BenKaiser/Desktop/GaiaJ1644m0449_paper/First_Revision/figures'"
   ]
  },
  {
   "cell_type": "code",
   "execution_count": 4,
   "metadata": {},
   "outputs": [],
   "source": [
    "target_dir= '/Users/BenKaiser/Desktop/GaiaJ1644m0449_paper/'\n",
    "os.chdir(target_dir)"
   ]
  },
  {
   "cell_type": "code",
   "execution_count": 5,
   "metadata": {},
   "outputs": [],
   "source": [
    "comp_tellcorr_file= \"ravg_fwctb.GaiaJ1644m0449other_20190825_tellcorr_400m2.fits\"\n",
    "comp_nocorr_file=\"ravg_fwctb.GaiaJ1644m0449other_20190825_400m2.fits\"\n",
    "sdss_path = '/Users/BenKaiser/Desktop/SDSS_speclib/'\n",
    "#sdss_name='M0_-0.5_Dwarf.fits'\n",
    "sdss_name='K7_+0.0_Dwarf.fits'\n",
    "sdss_label='K7 Template'\n",
    "sdss_name=sdss_path+sdss_name\n",
    "comp_tellcorr_file=target_dir+comp_tellcorr_file\n",
    "comp_nocorr_file=target_dir+comp_nocorr_file"
   ]
  },
  {
   "cell_type": "code",
   "execution_count": 6,
   "metadata": {},
   "outputs": [
    {
     "name": "stdout",
     "output_type": "stream",
     "text": [
      "wavelengths.min:  3650.0496\n",
      "new_wavelengths.min(): 3649.0096496361098\n"
     ]
    }
   ],
   "source": [
    "sdss_spec, sdss_header, sdss_noise= spt.retrieve_sdss_spec(sdss_name)"
   ]
  },
  {
   "cell_type": "code",
   "execution_count": 7,
   "metadata": {},
   "outputs": [
    {
     "name": "stdout",
     "output_type": "stream",
     "text": [
      "/Users/BenKaiser/Desktop/GaiaJ1644m0449_paper/ravg_fwctb.GaiaJ1644m0449other_20190825_tellcorr_400m2.fits\n",
      "/Users/BenKaiser/Desktop/GaiaJ1644m0449_paper/ravg_fwctb.GaiaJ1644m0449other_20190825_400m2.fits\n"
     ]
    }
   ],
   "source": [
    "print(comp_tellcorr_file)\n",
    "print(comp_nocorr_file)\n",
    "comp_tellcorr_spec, comp_tellcorr_header, anoise= spt.retrieve_spec(comp_tellcorr_file)\n",
    "comp_nocorr_spec, comp_nocorr_header, bnoise= spt.retrieve_spec(comp_nocorr_file)"
   ]
  },
  {
   "cell_type": "code",
   "execution_count": 8,
   "metadata": {},
   "outputs": [],
   "source": [
    "norm_range=[6000,6100]\n",
    "#norm_range=[7470, 7530]\n",
    "obs_pix_width=5\n",
    "kernel='box'\n",
    "sdss_scale_factor= 20.6 #actually the scale factor for BOSS"
   ]
  },
  {
   "cell_type": "code",
   "execution_count": 9,
   "metadata": {},
   "outputs": [
    {
     "name": "stdout",
     "output_type": "stream",
     "text": [
      "sdss_see_sig 0.9907997169143666\n",
      "see_sig 1.878981688210224\n",
      "conv_see_sig 1.5965237566637567\n",
      "\n",
      "\n",
      "wavelength-based norm range selected [6000, 6100]\n",
      "\n",
      "\n",
      "\n",
      "\n",
      "\n",
      "wavelength-based norm range selected [6000, 6100]\n",
      "\n",
      "\n",
      "\n",
      "\n",
      "\n",
      "wavelength-based norm range selected [6000, 6100]\n",
      "\n",
      "\n",
      "\n"
     ]
    }
   ],
   "source": [
    "#sm_comp_tellcorr_spec= ps.convolve_spectrum(comp_tellcorr_spec, comp_tellcorr_header, kernel_type=kernel, pix_width=obs_pix_width)\n",
    "#sm_comp_nocorr_spec= ps.convolve_spectrum(comp_nocorr_spec, comp_nocorr_header, kernel_type=kernel, pix_width=obs_pix_width)\n",
    "sm_sdss_spec= ps.convolve_spectrum(sdss_spec, comp_tellcorr_header, kernel_type='sdss_match',pix_width=1)\n",
    "\n",
    "#sm_sdss_spec=ps.convolve_spectrum(sm_sdss_spec,comp_tellcorr_header, kernel_type=kernel, pix_width=obs_pix_width*sdss_scale_factor)\n",
    "\n",
    "\n",
    "\n",
    "sm_comp_tellcorr_spec=np.copy(comp_tellcorr_spec)\n",
    "sm_comp_nocorr_spec=np.copy(comp_nocorr_spec)\n",
    "#sm_sdss_spec=np.copy(sdss_spec)\n",
    "\n",
    "\n",
    "sm_comp_tellcorr_spec= ps.norm_spectrum(sm_comp_tellcorr_spec, norm_range, show_norm_range=False)\n",
    "sm_comp_nocorr_spec= ps.norm_spectrum(sm_comp_nocorr_spec, norm_range, show_norm_range=False)\n",
    "sm_sdss_spec= ps.norm_spectrum(sm_sdss_spec, norm_range, show_norm_range=False)"
   ]
  },
  {
   "cell_type": "code",
   "execution_count": 10,
   "metadata": {},
   "outputs": [
    {
     "name": "stdout",
     "output_type": "stream",
     "text": [
      "/Users/BenKaiser/Desktop/GaiaJ1644m0449_paper\n",
      "/Users/BenKaiser/Desktop/GaiaJ1644m0449_paper/First_Revision/figures\n",
      "1600276027.7803578\n"
     ]
    }
   ],
   "source": [
    "spt.initiate_science_plot()\n",
    "#fig= plt.figure(figsize=(7.25,7.25),constrained_layout=True)\n",
    "fig= plt.figure(figsize=(6.,6.),constrained_layout=True)\n",
    "\n",
    "highlight_range=[7640,7720]\n",
    "label_pos=3.3\n",
    "label_off=65\n",
    "x_pos= 6050\n",
    "y_pos= 1.1\n",
    "v_offset=0.3\n",
    "\n",
    "plt.axvspan(highlight_range[0], highlight_range[1], alpha=0.5, color='r')\n",
    "\n",
    "\n",
    "plt.plot(sm_comp_nocorr_spec[0],sm_comp_nocorr_spec[1],  color='k')\n",
    "plt.plot(sm_comp_tellcorr_spec[0],sm_comp_tellcorr_spec[1]+v_offset, color='k')\n",
    "plt.plot(sm_sdss_spec[0],sm_sdss_spec[1]+2.5*v_offset, color='k')\n",
    "\n",
    "plt.text(x_pos, y_pos, 'No Correction', color='k')\n",
    "plt.text(x_pos, y_pos+1.1*v_offset, 'Telluric Correction', color='k')\n",
    "plt.text(x_pos, y_pos+2.5*v_offset, sdss_label, color='k')\n",
    "\n",
    "\n",
    "\n",
    "\n",
    "\n",
    "\n",
    "#plt.xlim(np.nanmin(sm_M0729_spec[0]), np.nanmax([sm_M0703_spec[0], sm_M0825_spec[0]]))\n",
    "plt.xlim(6000, 8500)\n",
    "plt.ylabel(r'$f_{\\lambda}$ (arbitrary units)')\n",
    "plt.xlabel(r'$\\lambda(\\AA)$')\n",
    "plt.ylim(0.2,2)\n",
    "spt.show_plot(line_id='', show_legend=False,actually_show=False)\n",
    "\n",
    "print(os.getcwd())\n",
    "os.chdir(figure_output_dir)\n",
    "print(os.getcwd())\n",
    "start = time.time()\n",
    "print(start)\n",
    "time_string=str(start).split('.')[0]\n",
    "\n",
    "#plt.legend(loc='lower right')\n",
    "plt.savefig('figure_tellcorr_'+time_string+'.pdf')#plt.grid(True)\n",
    "\n",
    "plt.show()"
   ]
  },
  {
   "cell_type": "code",
   "execution_count": null,
   "metadata": {},
   "outputs": [],
   "source": []
  }
 ],
 "metadata": {
  "kernelspec": {
   "display_name": "Python 3",
   "language": "python",
   "name": "python3"
  },
  "language_info": {
   "codemirror_mode": {
    "name": "ipython",
    "version": 3
   },
   "file_extension": ".py",
   "mimetype": "text/x-python",
   "name": "python",
   "nbconvert_exporter": "python",
   "pygments_lexer": "ipython3",
   "version": "3.6.5"
  }
 },
 "nbformat": 4,
 "nbformat_minor": 4
}
