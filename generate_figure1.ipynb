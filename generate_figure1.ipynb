{
 "cells": [
  {
   "cell_type": "markdown",
   "metadata": {},
   "source": [
    "# Generating Figure 1 from Kaiser et al. 2020"
   ]
  },
  {
   "cell_type": "markdown",
   "metadata": {},
   "source": [
    "This is the same message at the beginning of all jupyter notebooks in this directory. \n",
    "\n",
    "If you don't have the below packages, you obviously need to install them for this to work. If it doesn't work still it's extremely likely you have an outdated version of one of the packages. Alternatively, some of the histogram functions actually rely on not being the most recent version because they changed from \"normed\" to something else from my recollection. Or perhaps it was the other way. I am aware this was poor decision-making, but it works (if you use the right version). ¯\\\\_(ツ)_/¯\n",
    "\n",
    "Also pretty much all of these commands are copied and pasted from another Jupyter notebook I made but contained tons of tries at doing this stuff (and unrelated efforts) so that's why a lot of the variables seem unnecessary to use."
   ]
  },
  {
   "cell_type": "code",
   "execution_count": 1,
   "metadata": {},
   "outputs": [
    {
     "name": "stdout",
     "output_type": "stream",
     "text": [
      "\n",
      "\n",
      "no file_setting specificied\n",
      "\n",
      "\n",
      "/Users/BenKaiser/Desktop/abd1714_Kaiser_et_al_2020_Science\n"
     ]
    }
   ],
   "source": [
    "from __future__ import print_function\n",
    "\n",
    "\n",
    "import matplotlib\n",
    "matplotlib.use('pdf')\n",
    "\n",
    "\n",
    "import numpy as np\n",
    "import matplotlib.pyplot as plt\n",
    "import sys\n",
    "import os\n",
    "from astropy.io import fits\n",
    "from glob import glob\n",
    "from astropy.time import Time\n",
    "from astropy import coordinates as coords\n",
    "from astropy import units as u\n",
    "from astropy import constants as const\n",
    "from astropy import convolution as conv\n",
    "from astropy.table import Table, Column\n",
    "import scipy.interpolate as scinterp\n",
    "import time\n",
    "start = time.time()\n",
    "\n",
    "import spec_plot_tools as spt\n",
    "import cal_params as cp\n",
    "import plot_spec as ps\n",
    "import fix_strings as fs\n",
    "\n",
    "print(os.getcwd())"
   ]
  },
  {
   "cell_type": "code",
   "execution_count": 2,
   "metadata": {},
   "outputs": [
    {
     "name": "stdout",
     "output_type": "stream",
     "text": [
      "ravg_fwctb.GaiaJ1644m0449_20190729_400m1.fits\n",
      "J1644_fit_flambda.dms\n"
     ]
    }
   ],
   "source": [
    "target_dir= '/Users/BenKaiser/Desktop/GaiaJ1644m0449_paper/'\n",
    "target_spec_file='ravg_fwctb.GaiaJ1644m0449_20190729_400m1.fits'\n",
    "target_spec_file2='ravg_fwctb.GaiaJ1644m0449_20190825_tellcorr_400m2.fits'\n",
    "model_spec_file='J1644_fit_flambda.dms'\n",
    "#target_spec_file= glob(target_dir+target_spec_file)\n",
    "#model_spec_file= glob(target_dir+model_spec_file)\n",
    "print(target_spec_file)\n",
    "print(model_spec_file)"
   ]
  },
  {
   "cell_type": "code",
   "execution_count": 3,
   "metadata": {},
   "outputs": [],
   "source": [
    "#figure_output_dir='/Users/BenKaiser/Desktop/GaiaJ1644m0449_paper/First_Revision/figures'\n",
    "figure_output_dir='/Users/BenKaiser/Desktop/GaiaJ1644m0449_paper/Science_versions/Third_Revision/figures'"
   ]
  },
  {
   "cell_type": "code",
   "execution_count": 4,
   "metadata": {},
   "outputs": [],
   "source": [
    "#figure_output_dir='/Users/BenKaiser/Desktop/GaiaJ1644m0449_paper/ApJ_reformat/figures'"
   ]
  },
  {
   "cell_type": "markdown",
   "metadata": {},
   "source": [
    "I guess I have to just change the working directory instead of using a long file path for whatever reason..."
   ]
  },
  {
   "cell_type": "code",
   "execution_count": 5,
   "metadata": {},
   "outputs": [],
   "source": [
    "os.chdir(target_dir)"
   ]
  },
  {
   "cell_type": "code",
   "execution_count": 6,
   "metadata": {},
   "outputs": [],
   "source": [
    "target_spec, header, target_noise= spt.retrieve_spec(target_spec_file)\n",
    "target_spec2,header2, target_noise2=spt.retrieve_spec(target_spec_file2)"
   ]
  },
  {
   "cell_type": "code",
   "execution_count": 7,
   "metadata": {},
   "outputs": [],
   "source": [
    "model_spec= spt.retrieve_model_spec(model_spec_file)\n",
    "model_spec[1]=model_spec[1]*1e16"
   ]
  },
  {
   "cell_type": "code",
   "execution_count": 8,
   "metadata": {},
   "outputs": [],
   "source": [
    "og_model=np.copy(model_spec)"
   ]
  },
  {
   "cell_type": "code",
   "execution_count": 9,
   "metadata": {},
   "outputs": [],
   "source": [
    "trim_spot=6800\n",
    "tsm_target_spec=spt.clean_spectrum(target_spec,np.min(target_spec[0]), trim_spot,[])\n",
    "tsm_target_spec2=spt.clean_spectrum(target_spec2,trim_spot, np.max(target_spec2[0]),[])\n",
    "tmodel_spec=spt.clean_spectrum(og_model, np.nanmin(target_spec[0]), np.nanmax(target_spec2[0]),[])"
   ]
  },
  {
   "cell_type": "code",
   "execution_count": 10,
   "metadata": {
    "scrolled": false
   },
   "outputs": [
    {
     "name": "stdout",
     "output_type": "stream",
     "text": [
      "bad_string: GaiaJ1644-0449\n",
      "input_string: GaiaJ1644-0449 400M1 & 400M2\n",
      "output_string: WD J1644–0449 400M1 & 400M2\n",
      "/Users/BenKaiser/Desktop/GaiaJ1644m0449_paper\n",
      "/Users/BenKaiser/Desktop/GaiaJ1644m0449_paper/Science_versions/Third_Revision/figures\n",
      "1606516184.140327\n"
     ]
    }
   ],
   "source": [
    "#plt.rc('font',size=10)\n",
    "#fig= plt.figure(figsize=(15,10)) #from v1 description image size\n",
    "spt.initiate_science_plot()\n",
    "fig=plt.figure(figsize=(7.25,7.25*2./3),constrained_layout=True)\n",
    "#spt.start_ApJ_fig(width_cols=2,constrained_layout=True, width_height=[7.25,7.25*2./3])\n",
    "label_pos=0.27\n",
    "label_pos2= 0.15\n",
    "label_off=110\n",
    "\n",
    "\n",
    "plt.plot(tsm_target_spec[0],tsm_target_spec[1], label=fs.fix_display_string(\"GaiaJ1644-0449 400M1 & 400M2\"), color='k')\n",
    "plt.plot(tsm_target_spec2[0],tsm_target_spec2[1], color='k')\n",
    "plt.plot(tmodel_spec[0],tmodel_spec[1], label='Best Fit Model', color='r',alpha=0.7)\n",
    "\n",
    "\n",
    "plt.xlim(np.nanmin(target_spec[0]), 8500)\n",
    "plt.ylim(-0.05, 0.3)\n",
    "\n",
    "k_spot=np.mean([7664.899016,7698.96445153])\n",
    "\n",
    "\n",
    "plt.annotate('Na I D',xy=(5895.9241497669427, 0.1),xytext=(5895.9241497669427-label_off, label_pos), arrowprops=dict(arrowstyle='-'))\n",
    "plt.annotate('Li I',xy=(6707.9080032878719, 0.21),xytext=(6707.9080032878719-55, label_pos), arrowprops=dict(arrowstyle='-'))\n",
    "plt.annotate('Ca II\\nH & K',xy=(3968.4672118153667, 0.05),xytext=(3968.4672118153667-120, label_pos2), arrowprops=dict(arrowstyle='-'))\n",
    "plt.annotate('Ca I',xy=(4226.7295809531952, 0.05),xytext=(4226.7295809531952-70, label_pos2), arrowprops=dict(arrowstyle='-'))\n",
    "#plt.annotate('MgH band &\\nNa-He QM line',xy=(5190, 0.16),xytext=(5190-260, label_pos-0.05), arrowprops=dict(arrowstyle='-['))\n",
    "plt.annotate('MgH band',xy=(5190, 0.16),xytext=(5190-210, label_pos-0.05), arrowprops=dict(arrowstyle='-['))\n",
    "plt.annotate('K I',xy=(k_spot, 0.25),xytext=(k_spot-60, label_pos), arrowprops=dict(arrowstyle='-['))\n",
    "\n",
    "\n",
    "\n",
    "\n",
    "\n",
    "#plt.xlim(6000,8000)\n",
    "#plt.ylabel(r'$f_{\\lambda} (10^{-16} erg/ cm^{2}/s/ \\AA)$')\n",
    "#plt.ylabel(r'$f_{\\lambda}$ ($10^{-16}$ erg/cm$^{2}$/s/$\\AA$)')\n",
    "plt.ylabel(r'Flux ($10^{-16}$ erg/cm$^{2}$/s/$\\mathrm{\\AA}$)')\n",
    "\n",
    "#plt.ylabel(r'$f_{\\lambda} (10^{-16}$ erg cm$^{-2}$ s $^{-1}$ $\\AA^{-1})$') #inverse power units instead of divisions\n",
    "\n",
    "\n",
    "#plt.xlabel(r'$\\lambda(\\AA)$')\n",
    "#plt.xlabel(r'Wavelength $(\\AA)$')\n",
    "plt.xlabel(r'Wavelength $(\\mathrm{\\AA})$')\n",
    "\n",
    "\n",
    "\n",
    "#spt.show_plot(line_id='alkali', label_pos=0.25, convert_to_air=True)\n",
    "spt.show_plot(line_id='',show_legend=False,actually_show=False)\n",
    "\n",
    "\n",
    "print(os.getcwd())\n",
    "os.chdir(figure_output_dir)\n",
    "print(os.getcwd())\n",
    "start = time.time()\n",
    "print(start)\n",
    "time_string=str(start).split('.')[0]\n",
    "\n",
    "#plt.legend(loc='lower right')\n",
    "plt.savefig('figure1_'+time_string+'.pdf')#plt.grid(True)\n",
    "\n",
    "plt.show()"
   ]
  },
  {
   "cell_type": "code",
   "execution_count": null,
   "metadata": {},
   "outputs": [],
   "source": []
  }
 ],
 "metadata": {
  "kernelspec": {
   "display_name": "Python 3",
   "language": "python",
   "name": "python3"
  },
  "language_info": {
   "codemirror_mode": {
    "name": "ipython",
    "version": 3
   },
   "file_extension": ".py",
   "mimetype": "text/x-python",
   "name": "python",
   "nbconvert_exporter": "python",
   "pygments_lexer": "ipython3",
   "version": "3.6.5"
  }
 },
 "nbformat": 4,
 "nbformat_minor": 4
}
